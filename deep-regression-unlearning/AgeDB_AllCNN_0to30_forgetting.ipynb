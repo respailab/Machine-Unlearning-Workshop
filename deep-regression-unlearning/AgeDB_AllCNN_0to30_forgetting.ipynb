{
 "cells": [
  {
   "cell_type": "code",
   "execution_count": 68,
   "id": "1c594fe5",
   "metadata": {},
   "outputs": [],
   "source": [
    "import torch\n",
    "import pandas as pd\n",
    "import numpy as np\n",
    "from torch.utils.data import DataLoader\n",
    "\n",
    "from utils import *\n",
    "from models import AllCNN\n",
    "from datasets import AgeDB\n",
    "from unlearn import *\n",
    "from metrics import *\n",
    "from scipy.stats import wasserstein_distance\n",
    "\n",
    "import matplotlib.pyplot as plt\n",
    "import seaborn as sns"
   ]
  },
  {
   "cell_type": "code",
   "execution_count": 2,
   "id": "fa389b81",
   "metadata": {},
   "outputs": [],
   "source": [
    "df = pd.read_csv(\"./data/agedb.csv\")\n",
    "df_train, df_val, df_test = df[df['split'] == 'train'], df[df['split'] == 'val'], df[df['split'] == 'test']\n",
    "\n",
    "train_data = AgeDB(data_dir='./data', df=df_train, img_size=32, split='train')\n",
    "val_data = AgeDB(data_dir='./data', df=df_val, img_size=32, split='val')\n",
    "test_data = AgeDB(data_dir='./data', df=df_test, img_size=32, split='test')"
   ]
  },
  {
   "cell_type": "code",
   "execution_count": 3,
   "id": "72e71447",
   "metadata": {},
   "outputs": [],
   "source": [
    "train_loader = DataLoader(train_data, batch_size=256, shuffle=True,\n",
    "                              num_workers=64, pin_memory=True, drop_last=False)\n",
    "val_loader = DataLoader(val_data, batch_size=256, shuffle=False,\n",
    "                            num_workers=64, pin_memory=True, drop_last=False)\n",
    "test_loader = DataLoader(test_data, batch_size=256, shuffle=False,\n",
    "                             num_workers=64, pin_memory=True, drop_last=False)"
   ]
  },
  {
   "cell_type": "markdown",
   "id": "5720892c",
   "metadata": {},
   "source": [
    "## Training a model on all data"
   ]
  },
  {
   "cell_type": "code",
   "execution_count": 4,
   "id": "a907aa6d",
   "metadata": {},
   "outputs": [],
   "source": [
    "device = 'cuda'\n",
    "model = AllCNN(num_classes=1).to(device)\n",
    "epochs = 100\n",
    "save_path = \"../saved_models/AllCNN_AgeDB_100epochs.pt\"\n",
    "#history = fit_one_cycle(epochs, model, train_loader, val_loader, device = device, save_path = save_path)"
   ]
  },
  {
   "cell_type": "code",
   "execution_count": 5,
   "id": "647bad06",
   "metadata": {},
   "outputs": [
    {
     "data": {
      "text/plain": [
       "<All keys matched successfully>"
      ]
     },
     "execution_count": 5,
     "metadata": {},
     "output_type": "execute_result"
    }
   ],
   "source": [
    "model.load_state_dict(torch.load(save_path))"
   ]
  },
  {
   "cell_type": "markdown",
   "id": "74ca1ea4",
   "metadata": {},
   "source": [
    "## Creating separate forget and retain sets from data"
   ]
  },
  {
   "cell_type": "code",
   "execution_count": 6,
   "id": "068374cd",
   "metadata": {},
   "outputs": [],
   "source": [
    "df_train_forget = df_train[df_train['age'] <= 30]\n",
    "df_val_forget = df_val[df_val['age'] <= 30]\n",
    "df_test_forget = df_test[df_test['age'] <= 30]"
   ]
  },
  {
   "cell_type": "code",
   "execution_count": 7,
   "id": "eff50686",
   "metadata": {},
   "outputs": [],
   "source": [
    "train_data_forget = AgeDB(data_dir='./data', df=df_train_forget, img_size=32, split='train')\n",
    "val_data_forget = AgeDB(data_dir='./data', df=df_val_forget, img_size=32, split='val')\n",
    "test_data_forget = AgeDB(data_dir='./data', df=df_test_forget, img_size=32, split='test')"
   ]
  },
  {
   "cell_type": "code",
   "execution_count": 8,
   "id": "489e8405",
   "metadata": {},
   "outputs": [],
   "source": [
    "train_forget_loader = DataLoader(train_data_forget, batch_size=256, shuffle=False,\n",
    "                              num_workers=64, pin_memory=True, drop_last=False)\n",
    "val_forget_loader = DataLoader(val_data_forget, batch_size=256, shuffle=False,\n",
    "                            num_workers=64, pin_memory=True, drop_last=False)\n",
    "test_forget_loader = DataLoader(test_data_forget, batch_size=256, shuffle=False,\n",
    "                             num_workers=64, pin_memory=True, drop_last=False)"
   ]
  },
  {
   "cell_type": "code",
   "execution_count": 9,
   "id": "8166940f",
   "metadata": {},
   "outputs": [],
   "source": [
    "df_train_retain = df_train[df_train['age'] > 30]\n",
    "df_val_retain = df_val[df_val['age'] > 30]\n",
    "df_test_retain = df_test[df_test['age'] > 30]"
   ]
  },
  {
   "cell_type": "code",
   "execution_count": 10,
   "id": "93bf16d9",
   "metadata": {},
   "outputs": [],
   "source": [
    "train_data_retain = AgeDB(data_dir='./data', df=df_train_retain, img_size=32, split='train')\n",
    "val_data_retain = AgeDB(data_dir='./data', df=df_val_retain, img_size=32, split='val')\n",
    "test_data_retain = AgeDB(data_dir='./data', df=df_test_retain, img_size=32, split='test')"
   ]
  },
  {
   "cell_type": "code",
   "execution_count": 11,
   "id": "131f295b",
   "metadata": {},
   "outputs": [],
   "source": [
    "train_retain_loader = DataLoader(train_data_retain, batch_size=256, shuffle=True,\n",
    "                              num_workers=64, pin_memory=True, drop_last=False)\n",
    "val_retain_loader = DataLoader(val_data_retain, batch_size=256, shuffle=False,\n",
    "                            num_workers=64, pin_memory=True, drop_last=False)\n",
    "test_retain_loader = DataLoader(test_data_retain, batch_size=256, shuffle=False,\n",
    "                             num_workers=64, pin_memory=True, drop_last=False)"
   ]
  },
  {
   "cell_type": "code",
   "execution_count": 12,
   "id": "86654b7b",
   "metadata": {},
   "outputs": [
    {
     "data": {
      "text/plain": [
       "{'Loss': 9.332961082458496}"
      ]
     },
     "execution_count": 12,
     "metadata": {},
     "output_type": "execute_result"
    }
   ],
   "source": [
    "evaluate(model, test_retain_loader, 'cuda')"
   ]
  },
  {
   "cell_type": "code",
   "execution_count": 13,
   "id": "c9a96432",
   "metadata": {},
   "outputs": [
    {
     "data": {
      "text/plain": [
       "{'Loss': 12.767261505126953}"
      ]
     },
     "execution_count": 13,
     "metadata": {},
     "output_type": "execute_result"
    }
   ],
   "source": [
    "evaluate(model, test_forget_loader, 'cuda')"
   ]
  },
  {
   "cell_type": "markdown",
   "id": "20373d86",
   "metadata": {},
   "source": [
    "## Creating a retrained model on retain data"
   ]
  },
  {
   "cell_type": "code",
   "execution_count": 14,
   "id": "02318d3f",
   "metadata": {},
   "outputs": [],
   "source": [
    "device = 'cuda'\n",
    "gold_model = AllCNN(num_classes=1).to(device)\n",
    "epochs = 100\n",
    "save_path = \"../saved_models/AllCNN_AgeDB_100epochs_0to30_Gold.pt\"\n",
    "#history = fit_one_cycle(epochs, gold_model, train_retain_loader, val_retain_loader, device = device, save_path = save_path)"
   ]
  },
  {
   "cell_type": "code",
   "execution_count": 16,
   "id": "73950bb4",
   "metadata": {},
   "outputs": [
    {
     "data": {
      "text/plain": [
       "<All keys matched successfully>"
      ]
     },
     "execution_count": 16,
     "metadata": {},
     "output_type": "execute_result"
    }
   ],
   "source": [
    "gold_model.load_state_dict(torch.load(save_path))"
   ]
  },
  {
   "cell_type": "code",
   "execution_count": 17,
   "id": "12951935",
   "metadata": {},
   "outputs": [
    {
     "data": {
      "text/plain": [
       "{'Loss': 11.382165908813477}"
      ]
     },
     "execution_count": 17,
     "metadata": {},
     "output_type": "execute_result"
    }
   ],
   "source": [
    "evaluate(gold_model, test_retain_loader, 'cuda')"
   ]
  },
  {
   "cell_type": "code",
   "execution_count": 18,
   "id": "0372b937",
   "metadata": {},
   "outputs": [
    {
     "data": {
      "text/plain": [
       "{'Loss': 24.306758880615234}"
      ]
     },
     "execution_count": 18,
     "metadata": {},
     "output_type": "execute_result"
    }
   ],
   "source": [
    "evaluate(gold_model, test_forget_loader, 'cuda')"
   ]
  },
  {
   "cell_type": "markdown",
   "id": "9af93cd0",
   "metadata": {},
   "source": [
    "## Unlearning using different methods"
   ]
  },
  {
   "cell_type": "markdown",
   "id": "739143e3",
   "metadata": {},
   "source": [
    "### Finetuning"
   ]
  },
  {
   "cell_type": "code",
   "execution_count": 19,
   "id": "941eeb10",
   "metadata": {},
   "outputs": [
    {
     "name": "stdout",
     "output_type": "stream",
     "text": [
      "Epoch [0], last_lr: 0.00100, train_loss: 7.6173, val_loss: 9.4324\n",
      "Epoch [1], last_lr: 0.00100, train_loss: 7.1440, val_loss: 9.7303\n",
      "Epoch [2], last_lr: 0.00100, train_loss: 7.0587, val_loss: 9.3631\n",
      "Epoch [3], last_lr: 0.00100, train_loss: 6.9867, val_loss: 9.3156\n",
      "Epoch [4], last_lr: 0.00100, train_loss: 7.0971, val_loss: 9.7539\n"
     ]
    }
   ],
   "source": [
    "fntn_model = AllCNN(num_classes=1).to(device)\n",
    "fntn_model.load_state_dict(torch.load(\"../saved_models/AllCNN_AgeDB_100epochs.pt\"))\n",
    "epochs = 5\n",
    "save_path = \"saved_models/AllCNN_AgeDB_5epochs_0to30_Finetune_Forget.pt\"\n",
    "history = fit_one_cycle(epochs, fntn_model, train_retain_loader, val_retain_loader, lr = 0.001, device = device, save_path = save_path)"
   ]
  },
  {
   "cell_type": "code",
   "execution_count": 20,
   "id": "641e2e8d",
   "metadata": {},
   "outputs": [
    {
     "data": {
      "text/plain": [
       "{'Loss': 9.79076862335205}"
      ]
     },
     "execution_count": 20,
     "metadata": {},
     "output_type": "execute_result"
    }
   ],
   "source": [
    "evaluate(fntn_model, test_retain_loader, 'cuda')"
   ]
  },
  {
   "cell_type": "code",
   "execution_count": 21,
   "id": "c4e8da9a",
   "metadata": {},
   "outputs": [
    {
     "data": {
      "text/plain": [
       "{'Loss': 14.829755783081055}"
      ]
     },
     "execution_count": 21,
     "metadata": {},
     "output_type": "execute_result"
    }
   ],
   "source": [
    "evaluate(fntn_model, test_forget_loader, 'cuda')"
   ]
  },
  {
   "cell_type": "markdown",
   "id": "8f85959a",
   "metadata": {},
   "source": [
    "### Gaussian-Amnesiac"
   ]
  },
  {
   "cell_type": "code",
   "execution_count": 22,
   "id": "1c537d9d",
   "metadata": {},
   "outputs": [],
   "source": [
    "mean = df_train['age'].mean()\n",
    "sd = df_train['age'].std()\n",
    "\n",
    "random_preds = np.random.normal(loc=mean, scale=sd, size=(len(df_train[df_train['age'] <= 30]),))\n",
    "\n",
    "amnesiac_finetune_df = df_train.copy()\n",
    "amnesiac_finetune_df.loc[amnesiac_finetune_df['age'] <=30, 'age'] = random_preds"
   ]
  },
  {
   "cell_type": "code",
   "execution_count": 23,
   "id": "9e79cbf8",
   "metadata": {},
   "outputs": [],
   "source": [
    "amnesiac_finetune_train_data = AgeDB(data_dir='./data', df=amnesiac_finetune_df, img_size=32, split='train')\n",
    "amnesiac_finetune_train_loader = DataLoader(amnesiac_finetune_train_data, batch_size=256, shuffle=True,\n",
    "                              num_workers=64, pin_memory=True, drop_last=False)"
   ]
  },
  {
   "cell_type": "code",
   "execution_count": 24,
   "id": "106d2851",
   "metadata": {},
   "outputs": [
    {
     "name": "stdout",
     "output_type": "stream",
     "text": [
      "Epoch [0], last_lr: 0.00100, train_loss: 8.9267, val_loss: 9.9204\n"
     ]
    }
   ],
   "source": [
    "amn_model = AllCNN(num_classes=1).to(device)\n",
    "amn_model.load_state_dict(torch.load(\"../saved_models/AllCNN_AgeDB_100epochs.pt\"))\n",
    "epochs = 1\n",
    "save_path = \"saved_models/AllCNN_AgeDB_1epoch_0to30_Amnesiac_Finetune_Forget_tmp.pt\"\n",
    "history = fit_one_cycle(epochs, amn_model, amnesiac_finetune_train_loader, val_retain_loader, lr = 0.001, device = device, save_path = save_path)"
   ]
  },
  {
   "cell_type": "code",
   "execution_count": 25,
   "id": "6828bbab",
   "metadata": {},
   "outputs": [
    {
     "data": {
      "text/plain": [
       "{'Loss': 9.813302993774414}"
      ]
     },
     "execution_count": 25,
     "metadata": {},
     "output_type": "execute_result"
    }
   ],
   "source": [
    "evaluate(amn_model, test_retain_loader, 'cuda')"
   ]
  },
  {
   "cell_type": "code",
   "execution_count": 26,
   "id": "9f021731",
   "metadata": {},
   "outputs": [
    {
     "data": {
      "text/plain": [
       "{'Loss': 17.067028045654297}"
      ]
     },
     "execution_count": 26,
     "metadata": {},
     "output_type": "execute_result"
    }
   ],
   "source": [
    "evaluate(amn_model, test_forget_loader, 'cuda')"
   ]
  },
  {
   "cell_type": "markdown",
   "id": "a9c861b2",
   "metadata": {},
   "source": [
    "### Blindspot Unlearning"
   ]
  },
  {
   "cell_type": "code",
   "execution_count": 27,
   "id": "40f8b21e",
   "metadata": {},
   "outputs": [],
   "source": [
    "import warnings\n",
    "warnings.filterwarnings('ignore')"
   ]
  },
  {
   "cell_type": "code",
   "execution_count": 28,
   "id": "03127173",
   "metadata": {},
   "outputs": [],
   "source": [
    "df_train_forget['unlearn'] = 1\n",
    "df_val_forget['unlearn'] = 1\n",
    "df_test_forget['unlearn'] = 1\n",
    "df_train_retain['unlearn'] = 0\n",
    "df_val_retain['unlearn'] = 0\n",
    "df_test_retain['unlearn'] = 0"
   ]
  },
  {
   "cell_type": "code",
   "execution_count": 29,
   "id": "a27def85",
   "metadata": {},
   "outputs": [],
   "source": [
    "udf_train = pd.concat([df_train_forget, df_train_retain])\n",
    "utrain_data = UAgeDB(data_dir='./data', df=udf_train, img_size=32, split='train')\n",
    "utrain_loader = DataLoader(utrain_data, batch_size=256, shuffle=True,\n",
    "                              num_workers=64, pin_memory=True, drop_last=False)"
   ]
  },
  {
   "cell_type": "code",
   "execution_count": 30,
   "id": "80301593",
   "metadata": {},
   "outputs": [
    {
     "name": "stdout",
     "output_type": "stream",
     "text": [
      "Epoch [0], last_lr: 0.01000, train_loss: 27.1785, val_loss: 121.7154\n",
      "Epoch [1], last_lr: 0.01000, train_loss: 10.6321, val_loss: 19.6306\n"
     ]
    }
   ],
   "source": [
    "# Making the blindspot model\n",
    "device = 'cuda'\n",
    "bdst_model = AllCNN(num_classes=1).to(device)\n",
    "epochs = 2\n",
    "save_path = \"saved_models/AllCNN_AgeDB_2epochs_0to30_Proxy_tmp.pt\"\n",
    "history = fit_one_cycle(epochs, bdst_model, train_retain_loader, val_retain_loader, device = device, save_path = save_path)"
   ]
  },
  {
   "cell_type": "code",
   "execution_count": 31,
   "id": "35eed3fd",
   "metadata": {},
   "outputs": [
    {
     "name": "stdout",
     "output_type": "stream",
     "text": [
      "Epoch [0], last_lr: 0.00100, train_loss: 10.5517, val_loss: 12.6530\n"
     ]
    }
   ],
   "source": [
    "#Obtaining the unlearned model\n",
    "bdstu_model = AllCNN(num_classes=1).to(device)\n",
    "bdstu_model.load_state_dict(torch.load(\"../saved_models/AllCNN_AgeDB_100epochs.pt\"))\n",
    "epochs = 1\n",
    "save_path = \"saved_models/AllCNN_AgeDB_0to30_1epochs_ATBeta_50_unlearn_tmp.pt\"\n",
    "history = fit_one_forget_cycle(epochs, bdstu_model, bdst_model,  utrain_loader, val_loader, lr = 0.001, device = device, save_path = save_path)"
   ]
  },
  {
   "cell_type": "code",
   "execution_count": 32,
   "id": "4af10fcf",
   "metadata": {},
   "outputs": [
    {
     "data": {
      "text/plain": [
       "{'Loss': 9.977169036865234}"
      ]
     },
     "execution_count": 32,
     "metadata": {},
     "output_type": "execute_result"
    }
   ],
   "source": [
    "evaluate(bdstu_model, test_retain_loader, 'cuda')"
   ]
  },
  {
   "cell_type": "code",
   "execution_count": 33,
   "id": "0d67f9cf",
   "metadata": {},
   "outputs": [
    {
     "data": {
      "text/plain": [
       "{'Loss': 21.6317138671875}"
      ]
     },
     "execution_count": 33,
     "metadata": {},
     "output_type": "execute_result"
    }
   ],
   "source": [
    "evaluate(bdstu_model, test_forget_loader, 'cuda')"
   ]
  },
  {
   "cell_type": "markdown",
   "id": "21c58544",
   "metadata": {},
   "source": [
    "## Comparing the models "
   ]
  },
  {
   "cell_type": "markdown",
   "id": "f55cd331",
   "metadata": {},
   "source": [
    "### Wasserstein Distance"
   ]
  },
  {
   "cell_type": "code",
   "execution_count": 60,
   "id": "42119c50",
   "metadata": {},
   "outputs": [],
   "source": [
    "gold_predict = predict(gold_model, train_forget_loader, device)\n",
    "gold_outputs = torch.squeeze(gold_predict).cpu().numpy()"
   ]
  },
  {
   "cell_type": "code",
   "execution_count": 61,
   "id": "56b59ec4",
   "metadata": {},
   "outputs": [
    {
     "data": {
      "text/plain": [
       "2.9925390871550235"
      ]
     },
     "execution_count": 61,
     "metadata": {},
     "output_type": "execute_result"
    }
   ],
   "source": [
    "#Original Model\n",
    "full_predict = predict(model, train_forget_loader, device)\n",
    "full_outputs = torch.squeeze(full_predict).cpu().numpy()\n",
    "\n",
    "wasserstein_distance(full_outputs, gold_outputs)"
   ]
  },
  {
   "cell_type": "code",
   "execution_count": 62,
   "id": "fc8c85db",
   "metadata": {},
   "outputs": [
    {
     "data": {
      "text/plain": [
       "1.6193357016625907"
      ]
     },
     "execution_count": 62,
     "metadata": {},
     "output_type": "execute_result"
    }
   ],
   "source": [
    "#Finetune Model\n",
    "fntn_predict = predict(fntn_model, train_forget_loader, device)\n",
    "fntn_outputs = torch.squeeze(fntn_predict).cpu().numpy()\n",
    "\n",
    "wasserstein_distance(fntn_outputs, gold_outputs)"
   ]
  },
  {
   "cell_type": "code",
   "execution_count": 63,
   "id": "a08a61c7",
   "metadata": {},
   "outputs": [
    {
     "data": {
      "text/plain": [
       "2.331370087042542"
      ]
     },
     "execution_count": 63,
     "metadata": {},
     "output_type": "execute_result"
    }
   ],
   "source": [
    "#Gaussian Amnesiac Model\n",
    "amn_predict = predict(amn_model, train_forget_loader, device)\n",
    "amn_outputs = torch.squeeze(amn_predict).cpu().numpy()\n",
    "\n",
    "wasserstein_distance(amn_outputs, gold_outputs)"
   ]
  },
  {
   "cell_type": "code",
   "execution_count": 64,
   "id": "ab21249f",
   "metadata": {},
   "outputs": [
    {
     "data": {
      "text/plain": [
       "1.1530339315163682"
      ]
     },
     "execution_count": 64,
     "metadata": {},
     "output_type": "execute_result"
    }
   ],
   "source": [
    "#Blindspot Unlearned Model\n",
    "bdstu_predict = predict(bdstu_model, train_forget_loader, device)\n",
    "bdstu_outputs = torch.squeeze(bdstu_predict).cpu().numpy()\n",
    "\n",
    "wasserstein_distance(bdstu_outputs, gold_outputs)"
   ]
  },
  {
   "cell_type": "markdown",
   "id": "bd65fc70",
   "metadata": {},
   "source": [
    "### Membership Attack Probabilities"
   ]
  },
  {
   "cell_type": "code",
   "execution_count": 39,
   "id": "752f5964",
   "metadata": {},
   "outputs": [],
   "source": [
    "sample_size = 2000\n",
    "att_train_data = AgeDB(data_dir='./data', df=df_train.sample(sample_size), img_size=32, split='train')\n",
    "att_val_data = AgeDB(data_dir='./data', df=df_val.sample(sample_size), img_size=32, split='val')\n",
    "att_test_data = AgeDB(data_dir='./data', df=df_test.sample(sample_size), img_size=32, split='test')"
   ]
  },
  {
   "cell_type": "code",
   "execution_count": 40,
   "id": "9ed30233",
   "metadata": {},
   "outputs": [],
   "source": [
    "att_train_loader = DataLoader(att_train_data, batch_size=256, shuffle=True,\n",
    "                              num_workers=10, pin_memory=True, drop_last=False)\n",
    "att_val_loader = DataLoader(att_val_data, batch_size=256, shuffle=False,\n",
    "                            num_workers=10, pin_memory=True, drop_last=False)\n",
    "att_test_loader = DataLoader(att_test_data, batch_size=256, shuffle=False,\n",
    "                             num_workers=10, pin_memory=True, drop_last=False)"
   ]
  },
  {
   "cell_type": "code",
   "execution_count": 41,
   "id": "daaaefda",
   "metadata": {},
   "outputs": [],
   "source": [
    "att_retain_data = AgeDB(data_dir='./data', df=df_train[df_train['age'] > 30].sample(sample_size), img_size=32, split='train')\n",
    "att_forget_data = AgeDB(data_dir='./data', df=df_train[df_train['age'] <= 30].sample(sample_size), img_size=32, split='train')\n",
    "att_forget_test_data = AgeDB(data_dir='./data', df=df_test[df_test['age'] <= 30].sample(min(sample_size, len(df_test[df_test['age'] <= 30]))), img_size=32, split='test')"
   ]
  },
  {
   "cell_type": "code",
   "execution_count": 42,
   "id": "8ef50782",
   "metadata": {},
   "outputs": [],
   "source": [
    "att_forget_loader = DataLoader(att_forget_data, batch_size=256, shuffle=True,\n",
    "                              num_workers=10, pin_memory=True, drop_last=False)\n",
    "att_forget_test_loader = DataLoader(att_forget_test_data, batch_size=256, shuffle=True,\n",
    "                              num_workers=10, pin_memory=True, drop_last=False)\n",
    "att_retain_loader = DataLoader(att_retain_data, batch_size=256, shuffle=True,\n",
    "                              num_workers=10, pin_memory=True, drop_last=False)"
   ]
  },
  {
   "cell_type": "code",
   "execution_count": 43,
   "id": "d00cb602",
   "metadata": {},
   "outputs": [],
   "source": [
    "prediction_loaders = {\"forget_data\":att_forget_loader}"
   ]
  },
  {
   "cell_type": "code",
   "execution_count": 44,
   "id": "60940b75",
   "metadata": {},
   "outputs": [
    {
     "data": {
      "text/plain": [
       "{'forget_data': 0.5925, 'train': 0.642, 'test': 0.526}"
      ]
     },
     "execution_count": 44,
     "metadata": {},
     "output_type": "execute_result"
    }
   ],
   "source": [
    "#Original Model\n",
    "get_membership_attack_prob(att_train_loader, att_test_loader, model, prediction_loaders)"
   ]
  },
  {
   "cell_type": "code",
   "execution_count": 45,
   "id": "72006502",
   "metadata": {},
   "outputs": [
    {
     "data": {
      "text/plain": [
       "{'forget_data': 0.3005, 'train': 0.7265, 'test': 0.5865}"
      ]
     },
     "execution_count": 45,
     "metadata": {},
     "output_type": "execute_result"
    }
   ],
   "source": [
    "#Retrained Model\n",
    "get_membership_attack_prob(att_train_loader, att_test_loader, gold_model, prediction_loaders)"
   ]
  },
  {
   "cell_type": "code",
   "execution_count": 46,
   "id": "7501e80a",
   "metadata": {},
   "outputs": [
    {
     "data": {
      "text/plain": [
       "{'forget_data': 0.4285, 'train': 0.715, 'test': 0.555}"
      ]
     },
     "execution_count": 46,
     "metadata": {},
     "output_type": "execute_result"
    }
   ],
   "source": [
    "#Finetune Model\n",
    "get_membership_attack_prob(att_train_loader, att_test_loader, fntn_model, prediction_loaders)"
   ]
  },
  {
   "cell_type": "code",
   "execution_count": 47,
   "id": "076dd15b",
   "metadata": {},
   "outputs": [
    {
     "data": {
      "text/plain": [
       "{'forget_data': 0.4965, 'train': 0.79, 'test': 0.6195}"
      ]
     },
     "execution_count": 47,
     "metadata": {},
     "output_type": "execute_result"
    }
   ],
   "source": [
    "#Gaussian Amnesiac Model\n",
    "get_membership_attack_prob(att_train_loader, att_test_loader, amn_model, prediction_loaders)"
   ]
  },
  {
   "cell_type": "code",
   "execution_count": 48,
   "id": "42414dfb",
   "metadata": {},
   "outputs": [
    {
     "data": {
      "text/plain": [
       "{'forget_data': 0.403, 'train': 0.8135, 'test': 0.6625}"
      ]
     },
     "execution_count": 48,
     "metadata": {},
     "output_type": "execute_result"
    }
   ],
   "source": [
    "#Blindspot Unlearned Model\n",
    "get_membership_attack_prob(att_train_loader, att_test_loader, bdstu_model, prediction_loaders)"
   ]
  },
  {
   "cell_type": "markdown",
   "id": "67072ef0",
   "metadata": {},
   "source": [
    "### AIN"
   ]
  },
  {
   "cell_type": "code",
   "execution_count": 49,
   "id": "863d3ab9",
   "metadata": {},
   "outputs": [
    {
     "data": {
      "text/plain": [
       "0.006578947368421052"
      ]
     },
     "execution_count": 49,
     "metadata": {},
     "output_type": "execute_result"
    }
   ],
   "source": [
    "#Finetune Model\n",
    "ain(model, fntn_model, gold_model, train_data, val_data_retain, val_data_forget, \n",
    "                  batch_size = 256, error_range = 0.05, lr = 0.01, device = 'cuda')"
   ]
  },
  {
   "cell_type": "code",
   "execution_count": 50,
   "id": "58469897",
   "metadata": {},
   "outputs": [
    {
     "data": {
      "text/plain": [
       "0.009615384615384616"
      ]
     },
     "execution_count": 50,
     "metadata": {},
     "output_type": "execute_result"
    }
   ],
   "source": [
    "#Gaussian Amnesiac Model\n",
    "ain(model, amn_model, gold_model, train_data, val_data_retain, val_data_forget, \n",
    "                  batch_size = 256, error_range = 0.05, lr = 0.01, device = 'cuda')"
   ]
  },
  {
   "cell_type": "code",
   "execution_count": 51,
   "id": "33d24d9e",
   "metadata": {},
   "outputs": [
    {
     "data": {
      "text/plain": [
       "0.3333333333333333"
      ]
     },
     "execution_count": 51,
     "metadata": {},
     "output_type": "execute_result"
    }
   ],
   "source": [
    "#Blindspot Unlearned Model\n",
    "ain(model, bdstu_model, gold_model, train_data, val_data_retain, val_data_forget, \n",
    "                  batch_size = 256, error_range = 0.05, lr = 0.01, device = 'cuda')"
   ]
  },
  {
   "cell_type": "markdown",
   "id": "14fcee51",
   "metadata": {},
   "source": [
    "### Distribution Comparison"
   ]
  },
  {
   "cell_type": "code",
   "execution_count": 65,
   "id": "522a49bc",
   "metadata": {},
   "outputs": [],
   "source": [
    "labels = df_train[df_train['age'] <= 30]['age'].values"
   ]
  },
  {
   "cell_type": "code",
   "execution_count": 71,
   "id": "23ba8939",
   "metadata": {},
   "outputs": [],
   "source": [
    "pred_norm_dict = {'original model':abs(full_outputs-gold_outputs)/labels,\n",
    "            'ours: blindspot':abs(bdstu_outputs-gold_outputs)/labels, \n",
    "            'finetune':abs(fntn_outputs-gold_outputs)/labels,\n",
    "            'g-amnesiac':abs(amn_outputs-gold_outputs)/labels}\n",
    "\n",
    "pred_norm_df = pd.DataFrame(pred_norm_dict)"
   ]
  },
  {
   "cell_type": "code",
   "execution_count": 74,
   "id": "28c4c857",
   "metadata": {},
   "outputs": [
    {
     "data": {
      "text/plain": [
       "(0.0, 2.0)"
      ]
     },
     "execution_count": 74,
     "metadata": {},
     "output_type": "execute_result"
    },
    {
     "data": {
      "image/png": "[encoded data removed]",
      "text/plain": [
       "<Figure size 432x288 with 1 Axes>"
      ]
     },
     "metadata": {},
     "output_type": "display_data"
    }
   ],
   "source": [
    "plt.rcParams['font.size'] = '14'\n",
    "\n",
    "sns.set_style(\"darkgrid\")\n",
    "sns.histplot(pred_norm_df, element=\"poly\", stat='density')\n",
    "plt.xlabel(\"Relative prediction difference from retrained model\")\n",
    "plt.xlim(0,2)"
   ]
  },
  {
   "cell_type": "code",
   "execution_count": null,
   "id": "3097fe72",
   "metadata": {},
   "outputs": [],
   "source": []
  }
 ],
 "metadata": {
  "kernelspec": {
   "display_name": "Python 3",
   "language": "python",
   "name": "python3"
  },
  "language_info": {
   "codemirror_mode": {
    "name": "ipython",
    "version": 3
   },
   "file_extension": ".py",
   "mimetype": "text/x-python",
   "name": "python",
   "nbconvert_exporter": "python",
   "pygments_lexer": "ipython3",
   "version": "3.9.7"
  }
 },
 "nbformat": 4,
 "nbformat_minor": 5
}
